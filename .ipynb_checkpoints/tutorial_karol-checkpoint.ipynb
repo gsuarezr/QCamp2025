{
 "cells": [
  {
   "cell_type": "markdown",
   "id": "ee9c7e0e-cecb-4665-b71e-65d10f4c60f5",
   "metadata": {},
   "source": [
    "# Quantum Kernel Methods\n",
    "\n",
    "## Introduction\n",
    "\n",
    "Parametrized quantum circuits are perhaps the most important models for quantum machine learning algorithms in the NISQ era. Due their direct analogy with classical neural networks they are sometimes called \"Quantum Neural networks\" at their root they are nothing more than variatonal ansatz in terms of quantum gates rather than parametrized functions [1](https://en.wikipedia.org/wiki/Variational_method_(quantum_mechanics)) , by that sense one could think of the textbook application of the variational method as kind of neural network as well.\n",
    "\n",
    "Mathematically, parametrized circuits are a lot closer to classical kernel methods, which are a different kind of classical machine learning [2](arXiv:2101.11020) . Drawing inspiration from classical kernel methods, quantum kernel methods are a fresh take at how to approach a variety of machine learning problems (mainly in classification), these methods have received a lot of attention in the quantum machine learning community [3-5]\n",
    "\n",
    "In this tutorial, we will very briefly introduce quantum kernel methods "
   ]
  },
  {
   "cell_type": "markdown",
   "id": "3300e93b-8aba-49df-ae1a-cf2e11ccc50a",
   "metadata": {},
   "source": [
    "# Crash Course on Kernel methods\n",
    "\n",
    "In classical machine learning, you can  \"intuitively\" think of Kernel methods as inverse principal component analysis. Instead of reducing the dimensionality of your data, you will embed it into a higher-dimensional space (feature space) where you can use linear methods to analyze non-linear characteristics of the data. As shown in the figure, one can map 1D data into a 2D space and in this new 2D space the feature vectors of the original  data are linearly separable (You can separate them by drawing a line or a plane in higher dimensions)\n",
    "\n",
    "![](kernel_method.png)\n",
    "\n"
   ]
  },
  {
   "cell_type": "markdown",
   "id": "d83051c5-afc3-4ea8-bfb7-bd1cb142056a",
   "metadata": {},
   "source": [
    "# Wait, Increasing dimensionality seems like a bad idea 🤔!\n",
    "\n",
    "Indeed, in practice datasets maybe large, so we don't actually want to create those new feature vectors directly (the $y$ in the previous slide), the genious of kernel methods comes from the idea that we can analyze these feature vectors by only accessing their inner products in feature space, which we denotte as $K(,)$ usually called kernel function (rather than augmenting my space I run functions on individual vectors of my data)\n",
    "\n",
    "$$K(x_{i},x_{j}) = U(x_{j})^{T}U(x_{i})$$\n",
    "\n",
    "In order to build up some intuituin let us discuss support vector machines next"
   ]
  },
  {
   "cell_type": "markdown",
   "id": "f6c96230-6ee8-48c3-8f1e-7f55679b7b25",
   "metadata": {},
   "source": [
    "# Support vector machines in 5 minutes\n",
    "\n",
    "## Linear separability\n",
    "\n",
    "In 2 dimensions we can separate the data by a line. Suppose we have two vectors $x_{1}$ and $x_{2}$  the line that separates them satisfies \n",
    "\n",
    "$$a x_{1}-x_{2} + b =0$$\n",
    "\n",
    "if we let $\\vec{x}=(x_{1},x_{2})$ and $W= (a,-1)$ then we can write\n",
    "\n",
    "$$W^{T} x + b =0$$\n",
    "\n",
    "Which is the equation of a hyperplane\n"
   ]
  },
  {
   "cell_type": "code",
   "execution_count": 5,
   "id": "0a3c948f-b539-4e5d-8250-7e9509bb3940",
   "metadata": {},
   "outputs": [],
   "source": [
    "import numpy as np\n",
    "import matplotlib.pyplot as plt"
   ]
  },
  {
   "cell_type": "code",
   "execution_count": 16,
   "id": "52cdd1dd-7f12-466b-b83d-a347fcac76e9",
   "metadata": {},
   "outputs": [],
   "source": [
    "x=np.linspace(1,10,20)\n",
    "y=np.array([i+ 5*np.random.rand() if i>5 else 5*np.random.rand() for i in x])\n",
    "xv=np.concatenate((x,y))"
   ]
  },
  {
   "cell_type": "code",
   "execution_count": 45,
   "id": "e60399ed-2cb1-4596-b821-f902479fd274",
   "metadata": {},
   "outputs": [
    {
     "data": {
      "text/plain": [
       "<matplotlib.legend.Legend at 0x7f3231a9f4d0>"
      ]
     },
     "execution_count": 45,
     "metadata": {},
     "output_type": "execute_result"
    },
    {
     "data": {
      "image/png": "[encoded data removed]",
      "text/plain": [
       "<Figure size 640x480 with 1 Axes>"
      ]
     },
     "metadata": {},
     "output_type": "display_data"
    }
   ],
   "source": [
    "plt.scatter(x[:len(x)//2 -1],y[:len(x)//2 -1],label=r\"$x_{1}$\")\n",
    "plt.scatter(x[(len(x)//2 -1):],y[(len(x)//2 -1):],label=r\"$x_{2}$\")\n",
    "plt.axhline(y=W.T@xv +130,color='red')\n",
    "plt.legend()"
   ]
  },
  {
   "cell_type": "code",
   "execution_count": null,
   "id": "9145a879-16ca-466b-aff4-f65c4bfc5853",
   "metadata": {},
   "outputs": [],
   "source": []
  }
 ],
 "metadata": {
  "kernelspec": {
   "display_name": "Python 3 (ipykernel)",
   "language": "python",
   "name": "python3"
  },
  "language_info": {
   "codemirror_mode": {
    "name": "ipython",
    "version": 3
   },
   "file_extension": ".py",
   "mimetype": "text/x-python",
   "name": "python",
   "nbconvert_exporter": "python",
   "pygments_lexer": "ipython3",
   "version": "3.13.5"
  }
 },
 "nbformat": 4,
 "nbformat_minor": 5
}
